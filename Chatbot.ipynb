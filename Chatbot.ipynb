{
  "nbformat": 4,
  "nbformat_minor": 0,
  "metadata": {
    "colab": {
      "provenance": [],
      "authorship_tag": "ABX9TyOpJkaWT6H0ELE/ar40/23s",
      "include_colab_link": true
    },
    "kernelspec": {
      "name": "python3",
      "display_name": "Python 3"
    },
    "language_info": {
      "name": "python"
    }
  },
  "cells": [
    {
      "cell_type": "markdown",
      "metadata": {
        "id": "view-in-github",
        "colab_type": "text"
      },
      "source": [
        "<a href=\"https://colab.research.google.com/github/Anithatangirala/Codsoft_chatbot/blob/main/Chatbot.ipynb\" target=\"_parent\"><img src=\"https://colab.research.google.com/assets/colab-badge.svg\" alt=\"Open In Colab\"/></a>"
      ]
    },
    {
      "cell_type": "code",
      "execution_count": 1,
      "metadata": {
        "id": "V3OwC8cykxPe"
      },
      "outputs": [],
      "source": [
        "import re\n",
        "def chatbot(user_input):\n",
        "  user_input  = user_input.lower()\n",
        "  g = ['hello','hi','hey','greetings']\n",
        "  f =['bye','goodbye','see you','farewell']\n",
        "  q=['how are you','what is your name','who are you','what do you do','what is your favourite color']\n",
        "  d = \"I'm a simple chatbot. You can greet me or ask me something.\"\n",
        "\n",
        "  if any(greeting in user_input for greeting in g):\n",
        "    return \"Hello! How can I help you today?\"\n",
        "  elif any(farewell in user_input for farewell in f):\n",
        "    return \"Goodbye! Have a great day.\"\n",
        "  elif any(question in user_input for question in q):\n",
        "    if 'how are you' in user_input:\n",
        "      return \"I'm a computer progran, but thanks for asking! How can I assist you?\"\n",
        "    elif 'what is your name'in u or 'who are you' in user_input:\n",
        "      return \"I'm a chatbot. You can call me OUBAIDA.\"\n",
        "    elif 'what do you do' in user_input:\n",
        "      return \"I'm here to chat with you and answer your questions.what can I do for you today?\"\n",
        "    elif 'what is your favourite color'in user_input:\n",
        "      return \"As a program,I don't have a favourite color.But let's talk about your preferences instead!\"\n",
        "    else:\n",
        "      return \"I'm just a chatbot.You can call me OUBAIDA.\"\n",
        "  else:\n",
        "    return d\n",
        ""
      ]
    },
    {
      "cell_type": "code",
      "source": [
        "#let's take an example\n",
        "print(\"I'm OUBAIDA how can i help you \")\n",
        "print(\"----------------------------------------------------------------------------\")\n",
        "while True:\n",
        "  user_input = input(\"You:\")\n",
        "  if user_input.lower()  == 'exit':\n",
        "    print('Chatbot: Goodbye!')\n",
        "    break\n",
        "  response = chatbot(user_input)\n",
        "  print(\"Chatbot:\",response)"
      ],
      "metadata": {
        "colab": {
          "base_uri": "https://localhost:8080/"
        },
        "id": "EpcZfVJ8oL_w",
        "outputId": "ebbd018e-cb7d-498a-db55-99e51ee4696d"
      },
      "execution_count": 2,
      "outputs": [
        {
          "output_type": "stream",
          "name": "stdout",
          "text": [
            "I'm OUBAIDA how can i help you \n",
            "----------------------------------------------------------------------------\n",
            "You:how are you\n",
            "Chatbot: I'm a computer progran, but thanks for asking! How can I assist you?\n",
            "You:what is your favorite color\n",
            "Chatbot: I'm a simple chatbot. You can greet me or ask me something.\n",
            "You:ok\n",
            "Chatbot: I'm a simple chatbot. You can greet me or ask me something.\n",
            "You:exit\n",
            "Chatbot: Goodbye!\n"
          ]
        }
      ]
    }
  ]
}